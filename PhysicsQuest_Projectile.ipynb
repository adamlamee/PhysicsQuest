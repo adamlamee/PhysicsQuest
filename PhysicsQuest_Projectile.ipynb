{
 "cells": [
  {
   "cell_type": "markdown",
   "metadata": {
    "colab_type": "text",
    "id": "02fajs4mDYvA"
   },
   "source": [
    "Click \"Copy to Drive\" (above &#8593;) or go to **File > Save a Copy in Drive** so you'll have your own version to work on. If this is your first time doing a Physics Quest coding activity, try the [Introduction to Coding](https://colab.research.google.com/github/adamlamee/PhysicsQuest/blob/master/PhysicsQuest_Intro.ipynb) first.  \n",
    "# In this activity you will learn to:  \n",
    "- run and edit Python code  \n",
    "- generate simulated data  \n",
    "- use a simulation to solve a physics problem  \n",
    "\n",
    "<hr/>\n",
    "\n",
    "# Part 1: Preparing the Simulation    \n",
    "You can use Python to make a simulation that can help solve a physics problem. This activity simulates a ball being lauched horizontally off a table. There are two ways to run the code below:\n",
    "- press SHIFT and ENTER at the same time\n",
    "- click on the play button (&#9658;) to the left of the code  \n",
    "\n",
    "If you need to start over from scratch, open the [original activity here](https://colab.research.google.com/github/adamlamee/PhysicsQuest/blob/master/PhysicsQuest_Projectile.ipynb).  "
   ]
  },
  {
   "cell_type": "code",
   "execution_count": null,
   "metadata": {},
   "outputs": [],
   "source": [
    "import pandas as pd                # pandas makes data tables\n",
    "import matplotlib.pyplot as plt    # pyplot makes graphs\n",
    "\n",
    "# set the experiment parameters\n",
    "initial_y = 70                     # height of the table, in cm\n",
    "initial_v = 20                     # initial velocity of the ball, in cm/s\n",
    "print(\"Parameters: set\")           # tells us this part of the program is finished running"
   ]
  },
  {
   "cell_type": "markdown",
   "metadata": {},
   "source": [
    "**Challenge**  \n",
    "- In the code above, how fast does the ball roll off the table?  \n",
    "- What do you think \"initial_v\" is short for?  \n",
    "- Why do you think the initial height of the ball is called **initial_y**?    \n",
    "\n",
    "<hr/>\n",
    "\n",
    "# Part 2: Generating the Simulated Data  "
   ]
  },
  {
   "cell_type": "code",
   "execution_count": null,
   "metadata": {},
   "outputs": [],
   "source": [
    "time = 0                                         # sets the initial time\n",
    "x = 0                                            # sets the initial x-position\n",
    "y = initial_y\n",
    "data = pd.DataFrame({\"x\": [x], \"y\": [y]})        # starts a data table\n",
    "print(\"Simulated data: generating\")              # tells us the program started\n",
    "\n",
    "# beginning of the loop\n",
    "while y > 0:                                     # check if y > 0 each time below the loop runs\n",
    "    time = time + .1                            # updates time value for new loop\n",
    "    x = initial_v*time                           # distance = velocity * time\n",
    "    y = initial_y - .5*100*time*time             # distance = 1/2 * g * time^2\n",
    "    data = data.append(pd.DataFrame({\"x\": [x], \"y\": [y]}), ignore_index=True)  # stores the new data\n",
    "# end of the loop\n",
    "\n",
    "print(\"Simulated data: done\")                    # tells us the program finished\n",
    "print(\"Number of data points:\", data.shape[0])   # tells us how many times the loop ran"
   ]
  },
  {
   "cell_type": "markdown",
   "metadata": {},
   "source": [
    "**Challenge**  \n",
    "A loop is code that runs over and over again. This simulation uses a *while loop* to calculate where the ball is every 0.1 seconds.  \n",
    "- How many data points did the loop generate?  \n",
    "- The first line of the loop says \"while y > 0\". When do you think the loop will stop running?  \n",
    "- Edit the loop to update the time by .05 seconds (instead of .1) and run it again. How many data points did you generate this time?  \n",
    "\n",
    "<hr/>\n",
    "\n",
    "# Part 3: Graphing the Simulated Data  "
   ]
  },
  {
   "cell_type": "code",
   "execution_count": null,
   "metadata": {
    "colab": {},
    "colab_type": "code",
    "id": "-x93LiZQD6Jx"
   },
   "outputs": [],
   "source": [
    "plt.scatter(data['x'], data['y'], color='purple', s=10)\n",
    "plt.xlabel('meh')\n",
    "plt.ylabel('label me?')\n",
    "plt.title('title, please')\n",
    "plt.xlim(0,100)\n",
    "plt.ylim(0,100)\n",
    "plt.show()"
   ]
  },
  {
   "cell_type": "markdown",
   "metadata": {
    "colab_type": "text",
    "id": "8TW3co4tR8CG"
   },
   "source": [
    "**Challenge**  \n",
    "- Try making a better title and axis labels. Then, add comments after each line to describe what the program does.  \n",
    "- How far did the (simulated) ball travel before it hit the floor?  \n",
    "- Why do the points get farther apart as the ball falls?  \n",
    "- If the ball was launched twice as fast, how far would it go? Change the **initial_v** in the very first code cell. Remeber to re-run each block of code again to see the new graph.  \n",
    "- Did you do this experiment yourself? If so, try different values of **initial_v** until the graph matches the motion you recorded. How fast did you launch it?  \n",
    "\n",
    "<hr/>  \n",
    "\n",
    "# Credits\n",
    "This notebook was written by [Adam LaMee](http://www.adamlamee.com) for Physics Quest. Copyright [American Physical Society](https://www.aps.org/) 2020.\n",
    "\n",
    "<hr/>\n",
    "\n",
    "# Challenge answers\n",
    "### Part 1  \n",
    "- To start, the code has the initial velocity set to 20 cm/s.  \n",
    "- **initial_v** is short for \"initial velocity\", how fast the ball was launched off the table.  \n",
    "- Height was stored in a variable named **initial_y** because height is position in the y-direction. It helps to give variables useful names, but we sometimes shorten them to make the code easier to read.  \n",
    "\n",
    "### Part 2  \n",
    "- At first, the loop generates 13 data points. If you change how much time is added in each loop, the number of points will probably be different.  \n",
    "- The loop calculates x and y coordinates for the ball's motion only as long as the y-value is greater than zero. That's higher than the floor. When that isn't the case anymore, the loop stops.  \n",
    "- Having the loop caluclate the ball's position every 0.05 seconds should generate 25 points before it reaches the floor (and the loop stops).  \n",
    "\n",
    "### Part 3  \n",
    "- For an initial velocity of 20 cm/s, the graph shows the ball traveling a little more than 20 cm.  \n",
    "- The points get farther apart because the ball speeds up. When it moves faster, the ball travels a greater distance in the same amount of time (0.1 s or whatever you set you loop for).  \n",
    "- With an initial velocity of 40 cm/s, the ball travels about 45 cm. That's twice as far as before.  "
   ]
  }
 ],
 "metadata": {
  "colab": {
   "collapsed_sections": [],
   "name": "PhysicsQuest-Falling.ipynb",
   "provenance": []
  },
  "kernelspec": {
   "display_name": "Python 3",
   "language": "python",
   "name": "python3"
  },
  "language_info": {
   "codemirror_mode": {
    "name": "ipython",
    "version": 3
   },
   "file_extension": ".py",
   "mimetype": "text/x-python",
   "name": "python",
   "nbconvert_exporter": "python",
   "pygments_lexer": "ipython3",
   "version": "3.7.7"
  }
 },
 "nbformat": 4,
 "nbformat_minor": 1
}
