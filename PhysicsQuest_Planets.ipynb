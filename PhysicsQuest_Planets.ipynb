{
 "cells": [
  {
   "cell_type": "markdown",
   "metadata": {
    "colab_type": "text",
    "id": "02fajs4mDYvA"
   },
   "source": [
    "Click \"Copy to Drive\" (above &#8593;) or go to **File > Save a Copy in Drive** so you'll have your own version to work on. If this is your first time doing a Physics Quest coding activity, try the [Introduction to Coding](https://colab.research.google.com/github/adamlamee/PhysicsQuest/blob/master/PhysicsQuest_Intro.ipynb) first.  \n",
    "# In this activity you will learn to:  \n",
    "- run and edit Python code  \n",
    "- analyze a scientific data  \n",
    "- use graphs to look for relationships  \n",
    "\n",
    "<hr/>\n",
    "\n",
    "# Part 1: Entering Your Data  \n",
    "You can use Python to analyze scientific data. This activity uses [data about planets from NASA](https://nssdc.gsfc.nasa.gov/planetary/). There are two ways to run the code below:\n",
    "- press SHIFT and ENTER at the same time\n",
    "- click on the play button (&#9658;) to the left of the code  \n",
    "\n",
    "If you need to start over from scratch, open the [original activity here](https://colab.research.google.com/github/adamlamee/PhysicsQuest/blob/master/PhysicsQuest_Planets.ipynb).  "
   ]
  },
  {
   "cell_type": "code",
   "execution_count": null,
   "metadata": {
    "colab": {},
    "colab_type": "code",
    "id": "-x93LiZQD6Jx"
   },
   "outputs": [],
   "source": [
    "import pandas as pd                # pandas makes data tables\n",
    "import matplotlib.pyplot as plt    # pyplot makes graphs\n",
    "\n",
    "data = pd.read_csv(\"https://github.com/adamlamee/PhysicsQuest/raw/master/planets.csv\")   # reads in a data table\n",
    "data                                # shows the data table"
   ]
  },
  {
   "cell_type": "markdown",
   "metadata": {},
   "source": [
    "The table above shows data about planets and their orbits. The columns are:  \n",
    "- *avg_distance*: the planet's average distance from the Sun as it orbits (in millions of km)  \n",
    "- *period*: the number of days it takes the planet to make one full orbit around the Sun  \n",
    "- *velocity*: the planet's velocity as it orbits the Sun (in km/s)  \n",
    "- *eccentricity*: how circular or elliptical the planet's orbit is (zero is a perfect circle)  \n",
    "- *temperature*: the planet's average temperature (in degrees C)  \n",
    "- *mass*: the planet's mass (in 10<sup>24</sup> kg)  \n",
    "- *moons*: the number of moons orbiting the planet  \n",
    "\n",
    "**Challenge**  \n",
    "- Which planet has the most moons?  \n",
    "- Water freezes at 0 degrees Celcius. Which planets are colder than that, on average?  \n",
    "- Which planet is the most massive?  \n",
    "- What's a more common term for \"orbital period\"? Hint: find the period for the Earth.  \n",
    "- Which planet has the most circular orbit? Which has the most elliptical orbit?  \n",
    "\n",
    "<hr/>\n",
    "\n",
    "# Part 2: Looking for Patterns in the Data "
   ]
  },
  {
   "cell_type": "code",
   "execution_count": null,
   "metadata": {},
   "outputs": [],
   "source": [
    "plotdata = data.query('avg_distance > 0')            # filters the data table\n",
    "\n",
    "x = plotdata['avg_distance']\n",
    "y = plotdata['moons']\n",
    "\n",
    "plt.scatter(x, y, color='pink', edgecolor='black', s=90)\n",
    "plt.xlabel(\"label me!\")\n",
    "plt.ylabel(\"mee, too\")\n",
    "plt.title(\"Um, how about a title?\")\n",
    "plt.xlim(left=0)\n",
    "#plt.annotate(\"Jupiter\", (900,1800))                # if you graph mass vs. distance, this labels Jupiter\n",
    "plt.show()"
   ]
  },
  {
   "cell_type": "markdown",
   "metadata": {
    "colab_type": "text",
    "id": "8TW3co4tR8CG"
   },
   "source": [
    "**Challenge**  \n",
    "- Can you tell from the code above which quantities are being graphed? Edit the labels to communicate that.  \n",
    "- Add some comments to communicate what each line of code does.  \n",
    "- Try graphing different data on the y-axis. As orbital distance increases, what patterns do you notice in each of the other quantities?  What might be a scientific reason for each pattern you see?  \n",
    "- What are some other ways you can customize the graph?    \n",
    "\n",
    "<hr/>  \n",
    "\n",
    "# Credits\n",
    "This notebook was written by [Adam LaMee](http://www.adamlamee.com) for Physics Quest. Copyright [American Physical Society](https://www.aps.org/) 2020.\n",
    "\n",
    "<hr/>\n",
    "\n",
    "# Challenge answers\n",
    "### Part 1\n",
    "- It looks like Saturn has 82 moons!  \n",
    "- Mars, Jupiter, Saturn, Uranus, and Neptune each have average temperatures below freezing.  \n",
    "- Jupiter is the most massive planet at 1898 x 10<sup>24</sup> kg.  \n",
    "- Orbital period is the number of days to go around the Sun. We also call that a \"year\". The Earth takes about 365 days to make one full orbit.  \n",
    "- All planets have elliptical (or oval-shaped) orbits. Venus has an eccentricity close to zero, meaning its orbit is very circular. Mercury's orbital eccentricity is largest at 0.205. \n",
    "\n",
    "### Part 2\n",
    "- When you first run the code, it graphs number of moons (y-axis) vs. average distance from the Sun (x-axis).  \n",
    "- As distance from the Sun increases, these are some of the patterns you might have seen:  \n",
    "    - period *increases*, in part because planets are traveling a longer distance.  \n",
    "    - farther planets have *slower* velocities. If they moved faster, the Sun's gravity wouldn't be strong enough to keep them in orbit and they'd leave our solar system.  \n",
    "    - there isn't much of a relationship between eccentricity and the distance from the Sun.  \n",
    "    - temperature *decreases* since you're farther from the Sun (that's helps keep us warm).  \n",
    "    - the four outer planets, called *gas giants*, are much heavier than the four inner *rocky* planets due to how our early solar system formed.   \n",
    "    - Jupiter and Saturn have the most moons. They're also the most massive planets with stronger gravity to attract other objects.  "
   ]
  }
 ],
 "metadata": {
  "colab": {
   "collapsed_sections": [],
   "name": "PhysicsQuest_Planets.ipynb",
   "provenance": []
  },
  "kernelspec": {
   "display_name": "Python 3",
   "language": "python",
   "name": "python3"
  },
  "language_info": {
   "codemirror_mode": {
    "name": "ipython",
    "version": 3
   },
   "file_extension": ".py",
   "mimetype": "text/x-python",
   "name": "python",
   "nbconvert_exporter": "python",
   "pygments_lexer": "ipython3",
   "version": "3.7.7"
  }
 },
 "nbformat": 4,
 "nbformat_minor": 1
}
