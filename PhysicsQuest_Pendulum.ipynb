{
 "cells": [
  {
   "cell_type": "markdown",
   "metadata": {
    "colab_type": "text",
    "id": "02fajs4mDYvA"
   },
   "source": [
    "Click \"Copy to Drive\" (above &#8593;) or go to **File > Save a Copy in Drive** so you'll have your own version to work on. If this is your first time doing a Physics Quest coding activity, try the [Introduction to Coding](https://colab.research.google.com/github/adamlamee/PhysicsQuest/blob/master/PhysicsQuest_Intro.ipynb) first.  \n",
    "# In this activity you will learn to:  \n",
    "- run and edit Python code\n",
    "- analyze data from your own experiment\n",
    "- create and customize a graph in Python  \n",
    "- add comments to explain what the program does  \n",
    "\n",
    "<hr/>\n",
    "\n",
    "# Part 1: Entering Your Data  \n",
    "You can use Python to make graphs and charts of data you collect in an experiment. You can use you own measurements or make up some numbers to practice. There are two ways to run the code below:\n",
    "- press SHIFT and ENTER at the same time\n",
    "- click on the play button (&#9658;) to the left of the code  \n",
    "\n",
    "If you need to start over from scratch, open the [original activity here](https://colab.research.google.com/github/adamlamee/PhysicsQuest/blob/master/PhysicsQuest_Pendulum.ipynb).  "
   ]
  },
  {
   "cell_type": "code",
   "execution_count": null,
   "metadata": {
    "colab": {},
    "colab_type": "code",
    "id": "-x93LiZQD6Jx"
   },
   "outputs": [],
   "source": [
    "import pandas as pd                # pandas makes data tables\n",
    "import matplotlib.pyplot as plt    # pyplot makes graphs\n",
    "\n",
    "# this makes a data table and fills it with numbers. It's called a \"dataframe\".\n",
    "data = pd.DataFrame()\n",
    "data['cat'] = [1, 2, 3, 4]          # this makes a column called \"cat\" with four measurements recorded\n",
    "data['dog'] = [11, 12, 13, 14]      # this is another column with the SAME NUMBER of measurements\n",
    "data                                # this line tells the program to show the data table"
   ]
  },
  {
   "cell_type": "markdown",
   "metadata": {
    "colab_type": "text",
    "id": "8TW3co4tR8CG"
   },
   "source": [
    "**Challenge**  \n",
    "Edit the code above to fill the table above with your own data. Programs are really picky about *syntax*. That's the special formatting the code has, like '' and [ ]. If you get errors that you can't figure out, you can always start over with a [clean copy of this activity](https://colab.research.google.com/github/adamlamee/PhysicsQuest/blob/master/PhysicsQuest_Pendulum.ipynb).    \n",
    "- Give the two columns new names to match the measurements from your own experiment. Be sure to keep the same syntax. For example, data['cat'] works, but data[\"cat\"] will give an error.  \n",
    "- Replace the numbers in the table with your own data. Both columns need the *exact same* number of measurements.  \n",
    "- The data table always includes row numbers (called an *index*) on the left side. How many rows of data do you have in your table?  \n",
    "\n",
    "<hr/>\n",
    "\n",
    "# Part 2: Graphing Your Data "
   ]
  },
  {
   "cell_type": "code",
   "execution_count": null,
   "metadata": {
    "colab": {},
    "colab_type": "code",
    "id": "MtrwEuBIEByM"
   },
   "outputs": [],
   "source": [
    "# 'cat' and 'dog' probably need to be changed\n",
    "plt.scatter(data['cat'], data['dog'], color='red', alpha=.7, s=90, marker=\"<\")\n",
    "plt.xlabel(\"label me!\")\n",
    "plt.ylabel(\"mee, too\")\n",
    "plt.title(\"Um, how about a title?\")\n",
    "#plt.grid(True)\n",
    "#plt.xlim(0,20)\n",
    "#plt.ylim(0,20)\n",
    "plt.show()"
   ]
  },
  {
   "cell_type": "markdown",
   "metadata": {
    "colab_type": "text",
    "id": "J7DPNI_gEUH1"
   },
   "source": [
    "**Challenge**  \n",
    "Edit the code above to customize your graph.  \n",
    "- First, tell plt.scatter the new columns names your want to graph.  \n",
    "- Give your graph a better title and axis labels.  \n",
    "- Add a comment after each line of code describing what it does. Use the code in **Part 1** as an example.  \n",
    "- Can you figure out what **alpha** does? How about **s**?  \n",
    "- Do you see a way to add gridlines, change the limits of the axes, or the shape of the markers?  \n",
    "\n",
    "You can find more ways to customize your graph [here](https://matplotlib.org/3.2.2/api/markers_api.html#module-matplotlib.markers) and [here](https://matplotlib.org/3.2.2/api/_as_gen/matplotlib.pyplot.scatter.html).  \n",
    "\n",
    "<hr/>  \n",
    "\n",
    "# Credits\n",
    "This notebook was written by [Adam LaMee](http://www.adamlamee.com) for Physics Quest. Copyright [American Physical Society](https://www.aps.org/) 2020.\n",
    "\n",
    "<hr/>\n",
    "\n",
    "# Challenge answers\n",
    "### Part 1\n",
    "- If your code runs without errors and displays a new data table, great job! If not, try opening a [clean copy of the activity](https://colab.research.google.com/github/adamlamee/PhysicsQuest/blob/master/PhysicsQuest_Pendulum.ipynb) and be sure you don't edit any of the syntax (like ' or [ ] or , ).  \n",
    "- Your table has one more row than the largest number shown in the index. That's because the index starts counting at zero. See the number to the left of the first row in your data table.  \n",
    "\n",
    "### Part 2\n",
    "- A good comment after the line with plt.title() would be: # adds a title to the graph  \n",
    "- **Alpha** adjusts the transparency of the points on the graph. You can set it between 0 (totally transparent) and 1 (totally opaque).  \n",
    "- **s** is short for marker *size* and controlls how big the points are on the graph.  \n",
    "- Deleting the # at the beginning of a line of code will *uncomment* that line and let the program read it. Try doing that with grid, xlim, and ylim.  \n",
    "- The shape of the markers is set in the plt.scatter line with the parameter *marker*.  [This page](https://matplotlib.org/3.2.2/api/markers_api.html#module-matplotlib.markers) has lots of other options for marker shapes.  "
   ]
  }
 ],
 "metadata": {
  "colab": {
   "collapsed_sections": [],
   "name": "PhysicsQuest_Pendulum.ipynb",
   "provenance": []
  },
  "kernelspec": {
   "display_name": "Python 3",
   "language": "python",
   "name": "python3"
  },
  "language_info": {
   "codemirror_mode": {
    "name": "ipython",
    "version": 3
   },
   "file_extension": ".py",
   "mimetype": "text/x-python",
   "name": "python",
   "nbconvert_exporter": "python",
   "pygments_lexer": "ipython3",
   "version": "3.7.7"
  }
 },
 "nbformat": 4,
 "nbformat_minor": 1
}
