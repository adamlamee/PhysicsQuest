{
 "cells": [
  {
   "cell_type": "markdown",
   "metadata": {
    "colab_type": "text",
    "id": "02fajs4mDYvA"
   },
   "source": [
    "Click \"Copy to Drive\" (above &#8593;) or go to **File > Save a Copy in Drive** so you'll have your own version to work on. If this is your first time doing a Physics Quest coding activity, try the [Introduction to Coding](https://colab.research.google.com/github/adamlamee/PhysicsQuest/blob/master/PhysicsQuest_Intro.ipynb) first.  \n",
    "# In this activity you will learn to:  \n",
    "- run and edit Python code\n",
    "- analyze the motion of falling objects\n",
    "- create and customize a graph in Python\n",
    "\n",
    "<hr/>\n",
    "\n",
    "# Part 1: Time and Velocity  \n",
    "A group of students dropped a ball and recorded its velocity with a motion sensor as it fell. They repeated the experiment with a piece of paper. Run the code to see their data table. There are two ways to run the code below:\n",
    "- press SHIFT and ENTER at the same time\n",
    "- click on the play button (&#9658;) to the left of the code  \n",
    "\n",
    "If you need to start over from scratch, open the [original activity here](https://colab.research.google.com/github/adamlamee/PhysicsQuest/blob/master/PhysicsQuest_Falling.ipynb).  "
   ]
  },
  {
   "cell_type": "code",
   "execution_count": null,
   "metadata": {
    "colab": {},
    "colab_type": "code",
    "id": "-x93LiZQD6Jx"
   },
   "outputs": [],
   "source": [
    "import pandas as pd                # pandas makes data tables\n",
    "import matplotlib.pyplot as plt    # pyplot makes graphs\n",
    "\n",
    "# this makes a data table and fills it with numbers. It's called a \"dataframe\".\n",
    "data = pd.DataFrame()\n",
    "data['time'] = [0,.1,.2,.3,.4,.5,.6,.7,.8,.9]\n",
    "data['ball'] = [0.0,-0.9,-1.9,-2.9,-3.9,-4.9,-5.8,-6.8,-7.8,-8.8]\n",
    "data['paper'] = [0.0,-0.6,-1.1,-1.3,-1.6,-1.6,-1.6,-1.6,-1.6,-1.6]\n",
    "data"
   ]
  },
  {
   "cell_type": "markdown",
   "metadata": {
    "colab_type": "text",
    "id": "8TW3co4tR8CG"
   },
   "source": [
    "**Challenge**  \n",
    "Time was measured in seconds. The velocities of the ball and paper were measured in meters per second.\n",
    "- How many seconds did the team collect data?\n",
    "- Why do you think the velocities are negative?\n",
    "- Which object fell faster? Why do you think that?\n",
    "- A fast runner can sprint at 6 m/s. Did either object fall that fast?\n",
    "\n",
    "<hr/>\n",
    "\n",
    "# Part 2: Graphing Motion "
   ]
  },
  {
   "cell_type": "code",
   "execution_count": null,
   "metadata": {
    "colab": {},
    "colab_type": "code",
    "id": "MtrwEuBIEByM"
   },
   "outputs": [],
   "source": [
    "# now let's graph the data\n",
    "plt.scatter(data['time'], data['ball'], color='red', label=\"ball\")      # graphs the ball's motion\n",
    "plt.scatter(data['time'], data['paper'], color=\"gray\", label=\"papeeeer\")    # graphs the paper's motion\n",
    "plt.xlabel(\"time (units of time)\")\n",
    "plt.ylabel(\"something (m/s)\")\n",
    "plt.title(\"Title me!\")\n",
    "plt.grid(False)             # how could you edit this line to add a grid?\n",
    "plt.legend();"
   ]
  },
  {
   "cell_type": "markdown",
   "metadata": {
    "colab_type": "text",
    "id": "J7DPNI_gEUH1"
   },
   "source": [
    "**Challenge**\n",
    "- How would you describe the ball's velocity based on the shape of the graph?\n",
    "- What happened to the velocity of the paper as it fell?\n",
    "- Try fixing the title, axis labels, and legend.\n",
    "\n",
    "<hr/>  "
   ]
  },
  {
   "cell_type": "markdown",
   "metadata": {
    "colab_type": "text",
    "id": "8_qJ2idDLxQx"
   },
   "source": [
    "# Credits\n",
    "This notebook was written by [Adam LaMee](http://www.adamlamee.com) for Physics Quest. Copyright [American Physical Society](https://www.aps.org/) 2020.\n",
    "\n",
    "<hr/>\n",
    "\n",
    "# Challenge answers\n",
    "### Part 1\n",
    "- There is 0.9 seconds of data (almost one second).\n",
    "- Since the objects are falling *downward* their velocities are negative.\n",
    "- The ball fell faster. 8.8 m/s faster than 1.6 m/s, even if they're moving downward.\n",
    "- By 0.7 seconds the ball was falling faster than 6 m/s.  \n",
    "\n",
    "### Part 2\n",
    "- The graph shows the ball's velocity is almost a straight line, so it sped up at a constant rate. That's because gravity acts on it constantly as it falls.\n",
    "- The paper sped up at first, but it's velocity stopped changing at around -1.6 m/s. Air resistance kept it from speeding up any faster. A round ball feels less air resistance so we wouldn't notice it's velocity becoing constant until much later (and faster)."
   ]
  }
 ],
 "metadata": {
  "colab": {
   "collapsed_sections": [],
   "name": "PhysicsQuest-Falling.ipynb",
   "provenance": []
  },
  "kernelspec": {
   "display_name": "Python 3",
   "language": "python",
   "name": "python3"
  },
  "language_info": {
   "codemirror_mode": {
    "name": "ipython",
    "version": 3
   },
   "file_extension": ".py",
   "mimetype": "text/x-python",
   "name": "python",
   "nbconvert_exporter": "python",
   "pygments_lexer": "ipython3",
   "version": "3.7.7"
  }
 },
 "nbformat": 4,
 "nbformat_minor": 1
}
